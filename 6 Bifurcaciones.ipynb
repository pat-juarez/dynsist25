{
 "cells": [
  {
   "cell_type": "markdown",
   "id": "67e5e4d4",
   "metadata": {},
   "source": [
    "# Bifurcaciones elementales\n",
    "\n",
    "Los modelos QIF y FHN (equivalentemente, el modelo $I_{Na_p,L}$) presentan algunos cambios en el número y la naturaleza de sus equilibrios conforme un parámetro (en estos casos, la corriente aplicada) es variada. Esto es muy importante en el sentido aplicado de nuestros modelos, pues en función de los valores de $I$ es que el potencial de membrana disponga de uno, dos, o más equilibrios a los que pueda converger. Esta variación en el número de potenciales de reposo conlleva a *cambios cualitativos* en los comportamientos a largo plazo. A este fenómeno de pérdida o modificación de un punto de equilibrio le llamaremos **bifurcación**.\n",
    "\n",
    "## Estructura del código\n",
    "<a id='intro'></a>\n",
    "\n",
    "- [Introducción](#intro)\n",
    "- [Bifurcación silla-nodo](#sn)\n",
    "- [Bifurcación transcrítica](#trans)\n",
    "- [Bifurcación tridente](#pitch)\n",
    "- [Ejemplos](#ejemplos)"
   ]
  },
  {
   "cell_type": "code",
   "execution_count": 1,
   "id": "236cbd50",
   "metadata": {},
   "outputs": [],
   "source": [
    "# Cargamos la paquetería\n",
    "\n",
    "import numpy as np\n",
    "import matplotlib.pyplot as plt\n",
    "from numpy.core.function_base import linspace\n",
    "\n",
    "from scipy.integrate import solve_ivp\n",
    "from scipy.integrate import odeint\n",
    "from numpy import sqrt, exp, sin, cos, log"
   ]
  },
  {
   "cell_type": "code",
   "execution_count": 2,
   "id": "20a1216a",
   "metadata": {},
   "outputs": [],
   "source": [
    "# Línea fase\n",
    "\n",
    "def phase(f,x):\n",
    "    \n",
    "    phasep = plt.figure(figsize=(12,6))\n",
    "    phasep = plt.plot(x,f(x),color=\"magenta\")\n",
    "\n",
    "    for k in range(len(x)):\n",
    "\n",
    "        if f(x[k])<-0.01:\n",
    "\n",
    "            phasep = plt.scatter([x[k]],[0.0],color=\"blue\", s=100.0)\n",
    "\n",
    "        elif f(x[k])>0.01:\n",
    "\n",
    "            phasep = plt.scatter([x[k]],[0.0],color=\"red\", s=100.0)\n",
    "\n",
    "        else:\n",
    "            \n",
    "            if f(x[k-1])>0.01 and f(x[k+1])<-0.01:\n",
    "\n",
    "                phasep = plt.scatter([x[k]],[0.0],color=\"black\",s=200.0)\n",
    "                \n",
    "            else:\n",
    "                \n",
    "                phasep = plt.scatter([x[k]],[0.0],color=\"white\",s=200.0,edgecolors=\"black\")\n",
    "\n",
    "    return phasep\n",
    "\n",
    "# Función auxiliar de graficación\n",
    "\n",
    "def graph(t,f):\n",
    "    \n",
    "    y = np.zeros(len(t))\n",
    "    \n",
    "    for k in range(len(t)):\n",
    "        y[k] = f(t[k])\n",
    "        \n",
    "    return y\n",
    "\n",
    "def bif_diag(X,I,f,df):\n",
    "    \n",
    "    p = plt.plot()\n",
    "    \n",
    "    for j in range(len(I)):\n",
    "        \n",
    "        for k in range(len(X)):\n",
    "            \n",
    "            if abs(f(X[k],I[j]))<0.01:\n",
    "                \n",
    "                if abs(df(X[k],I[j]))<0.001:\n",
    "                    \n",
    "                    p = plt.scatter([I[j]],[X[k]],marker=\"x\",s=500.0,color=\"red\")\n",
    "                \n",
    "                if df(X[k],I[j])<-0.001:\n",
    "                    \n",
    "                    p = plt.scatter([I[j]],[X[k]],color=\"black\",s=200.0)\n",
    "                    \n",
    "                elif df(X[k],I[j])>0.001:\n",
    "                    \n",
    "                    p = plt.scatter([I[j]],[X[k]],color=\"white\",s=200.0,edgecolors=\"black\")\n",
    "                \n",
    "                    \n",
    "    p = plt.xlim([I[0],I[len(I)-1]])\n",
    "    p = plt.ylim([X[0],X[len(X)-1]])\n",
    "        \n",
    "    return p"
   ]
  },
  {
   "cell_type": "markdown",
   "id": "d4ffa278",
   "metadata": {},
   "source": [
    "Una **bifurcación**, en resumidas cuentas, es el cambio de sufre un sistema paramétrico cuando uno o varios equilibrios cambian (nacen, mueren, o modifican su estabilidad) conforme el parámetro, al cuál llamaremos **parámetro de bifurcación**, es modificado. El momento exacto de la bifurcación ocurre para un valor específico del parámetro, al cual denomiaremos **valor crítico**. Las bifurcaciones son clasificadas según los cambios que sufren los puntos de equilibrio involucrados. Como veremos, estos cambios pueden aparecer en sistemas con reglas de evolución significativamente distintas pero que, al estudiarse de manera abstracta, nos llevan a conclusiones comunes que son aplicables en cualquier sistema con similares bifurcaciones.\n",
    "\n",
    "En esta primera exposición de bifurcaciones elementales nos concentraremos en los tres casos más comunes para sistemas unidimesionales: la bifurcación de **silla-nodo**, la **transcrítica**, y el **tridente**."
   ]
  },
  {
   "cell_type": "markdown",
   "id": "7061b725",
   "metadata": {},
   "source": [
    "## Silla-nodo (Saddle-node)\n",
    "<a id='sn'></a>\n",
    "\n",
    "Ésta es la bifurcación presentada por el modelo QIF subumbral,\n",
    "$$\\dot{x}=x^2+I.$$\n",
    "Como sabemos, el número de equilibrios pasa de ser dos ($I<0$) a uno ($I=0$) a ninguno ($I>0$). El parámetro de bifurcación es la corriente aplicada $I\\in\\mathbb{R}$, mientras que el valor crítico es $I^*=0$. Observemos la naturaleza de los puntos de equilibrio involucrados: un punto sumidero y un punto fuente ($I<0$) se acercan conforme el parámetro se incrementa, hasta chocar, formando un equilibrio nodo ($I=0$), y aniquilarse ($I>0$). Esta bifurcación implica la pérdida (o nacimiento, según sea leída) de dos puntos de equilibrio de estabilidad opuesta."
   ]
  },
  {
   "cell_type": "code",
   "execution_count": null,
   "id": "4ed8b2d2",
   "metadata": {},
   "outputs": [],
   "source": [
    "# I = -1.0\n",
    "I = 0.0\n",
    "# I = 1.0\n",
    "\n",
    "def SN_phase(x):\n",
    "    return x**2+I"
   ]
  },
  {
   "cell_type": "code",
   "execution_count": null,
   "id": "c49baeb7",
   "metadata": {},
   "outputs": [],
   "source": [
    "x0 = linspace(-2,2,21)\n",
    "pphase = phase(SN_phase,x0)\n",
    "pphase = plt.ylim([-1.0,3.0])\n",
    "pphase = plt.title(\"Silla-nodo, línea de fases\")\n",
    "pphase = plt.xlabel(\"x\")\n",
    "pphase = plt.ylabel(\"dx/dt\")"
   ]
  },
  {
   "cell_type": "markdown",
   "id": "f42538f4",
   "metadata": {},
   "source": [
    "Una herramienta gráfica que nos permite visualizar de manera sencilla el cambio de los puntos de equilibrio conforme varía el parámetro es el **diagrama de bifurcación**. En éste se grafican los puntos de equilibrio que se encuentren, junto con su estabilidad, para cada valor del parámetro."
   ]
  },
  {
   "cell_type": "code",
   "execution_count": null,
   "id": "144d97b3",
   "metadata": {},
   "outputs": [],
   "source": [
    "### Campo vectorial\n",
    "\n",
    "def SN_bif(x,I):\n",
    "    return x**2+I\n",
    "\n",
    "### Derivada del campo vectorial (para separar sumideros de fuentes)\n",
    "\n",
    "def dSN_bif(x,I):\n",
    "    return 2*x\n",
    "\n",
    "X = linspace(-2,2,51)\n",
    "I = linspace(-1,1,101)\n",
    "\n",
    "p = bif_diag(X,I,SN_bif,dSN_bif)\n",
    "p = plt.xlabel(\"I\")\n",
    "p = plt.ylabel(\"x_0\")\n",
    "p = plt.title(\"Diagrama de bifurcación, Silla-nodo\")"
   ]
  },
  {
   "cell_type": "markdown",
   "id": "2a3709cb-a74a-42e2-95fe-5e2e57c89625",
   "metadata": {},
   "source": [
    "[Regresar](#intro)"
   ]
  },
  {
   "cell_type": "markdown",
   "id": "45c16fc5",
   "metadata": {},
   "source": [
    "## Bifurcación transcrítica\n",
    "<a id='trans'></a>\n",
    "\n",
    "Esta bifurcación ocurre cuando dos equilibrios de estabilidades opuestas chocan e *intercambian* su estabilidad. El modelo canónico en el que este fenómeno ocurre está definido por\n",
    "\n",
    "$$\\dot{x}=x^2-kx,$$\n",
    "\n",
    "donde $k$ es el parámetro de bifurcación con valor crítico $k^*=0$. Lo que veremos en este modelo es que el origen $x_0=0$ siempre es punto de equilibrio, pero su estabilidad depende del signo de $k$. Asimismo, observamos un segundo punto de equilibrio en $x_1=k$, pero su estabilidad se invierte cuando choca con $x_0=0$ en la bifurcación."
   ]
  },
  {
   "cell_type": "code",
   "execution_count": null,
   "id": "3a463480",
   "metadata": {},
   "outputs": [],
   "source": [
    "k = -0.5\n",
    "# k = 0.0\n",
    "# k = 1.0\n",
    "\n",
    "def TC_phase(x):\n",
    "    return x*(x-k)"
   ]
  },
  {
   "cell_type": "code",
   "execution_count": null,
   "id": "2ddfdcaf",
   "metadata": {},
   "outputs": [],
   "source": [
    "x0 = linspace(-2,2,21)\n",
    "pphase = phase(TC_phase,x0)\n",
    "pphase = plt.ylim([-1,5])\n",
    "pphase = plt.title(\"Transcrítica, línea de fases\")\n",
    "pphase = plt.xlabel(\"x\")\n",
    "pphase = plt.ylabel(\"dx/dt\")"
   ]
  },
  {
   "cell_type": "markdown",
   "id": "09f0cca6",
   "metadata": {},
   "source": [
    "El diagrama de bifurcación nos permitirá ver la *historia* del sistema a lo largo de la variación del parámetro $k$."
   ]
  },
  {
   "cell_type": "code",
   "execution_count": null,
   "id": "b2bcaad8",
   "metadata": {},
   "outputs": [],
   "source": [
    "### Campo vectorial\n",
    "\n",
    "def TC_bif(x,k):\n",
    "    return x**2-k*x\n",
    "\n",
    "### Derivada del campo vectorial (para separar sumideros de fuentes)\n",
    "\n",
    "def dTC_bif(x,k):\n",
    "    return 2*x-k\n",
    "\n",
    "X = linspace(-2,2,51)\n",
    "K = linspace(-1,1,41)\n",
    "\n",
    "p = bif_diag(X,K,TC_bif,dTC_bif)\n",
    "p = plt.xlabel(\"k\")\n",
    "p = plt.ylabel(\"x_0\")\n",
    "p = plt.title(\"Diagrama de bifurcación, Transcrítica\")"
   ]
  },
  {
   "cell_type": "markdown",
   "id": "2b4bf46f-9a3f-49a2-b736-f030426987bf",
   "metadata": {},
   "source": [
    "[Regresar](#intro)"
   ]
  },
  {
   "cell_type": "markdown",
   "id": "972d51ed",
   "metadata": {},
   "source": [
    "## Bifurcación de tridente\n",
    "<a id='pitch'></a>\n",
    "\n",
    "La última bifurcación que estudiaremos está caracterizada por el sistema canónico\n",
    "\n",
    "$$\\dot{x}=\\beta x-\\tfrac{1}{3}x^3,$$\n",
    "\n",
    "y describe la evolución de un punto de equilibrio que pierde (o invierte) su estabilidad al momento de la bifurcación en $\\beta^*=0$. Tras la bifurcación aparecen otros dos equilibrios que *heredan* la estabilidad perdida del equilibrio original. Leída en sentido contrario observamos tres equilibrios, dos con estabilidades iguales y uno con estabilidad contraria, que chocan en la bifurcación, aniquilando a dos de ellos, e inviertiendo la estabilidad del sobreviviente.\n",
    "\n",
    "La bifurcación de tridente tiene dos versiones posibles: una en la que el equilibrio original es estable y pierde su estabilidad tras la bifurcación, a la que llamaremos **supercrítica**, y otra en la que el equilibrio original es inestable y gana estabilidad tras la bifurcación, a la que llamaremos **subcrítica**."
   ]
  },
  {
   "cell_type": "code",
   "execution_count": null,
   "id": "17215a78",
   "metadata": {},
   "outputs": [],
   "source": [
    "# b = -0.5\n",
    "# b = 0.0\n",
    "b = 0.5\n",
    "\n",
    "def PF_phase(x):\n",
    "    return b*x-1/3*x**3"
   ]
  },
  {
   "cell_type": "code",
   "execution_count": null,
   "id": "82048cd9",
   "metadata": {},
   "outputs": [],
   "source": [
    "x0 = linspace(-2,2,21)\n",
    "pphase = phase(PF_phase,x0)\n",
    "pphase = plt.ylim([-0.75,0.75])\n",
    "pphase = plt.title(\"Tridente supercrítico, línea de fases\")\n",
    "pphase = plt.xlabel(\"x\")\n",
    "pphase = plt.ylabel(\"dx/dt\")"
   ]
  },
  {
   "cell_type": "code",
   "execution_count": null,
   "id": "93f82f54",
   "metadata": {},
   "outputs": [],
   "source": [
    "### Campo vectorial\n",
    "\n",
    "def PF_bif(x,b):\n",
    "    return b*x-1/3*x**3\n",
    "\n",
    "### Derivada del campo vectorial (para separar sumideros de fuentes)\n",
    "\n",
    "def dPF_bif(x,b):\n",
    "    return b-x**2\n",
    "\n",
    "X = linspace(-2,2,201)\n",
    "B = linspace(-1,1,41)\n",
    "\n",
    "p = bif_diag(X,B,PF_bif,dPF_bif)\n",
    "p = plt.xlabel(\"beta\")\n",
    "p = plt.ylabel(\"x_0\")\n",
    "p = plt.title(\"Diagrama de bifurcación, Tridente supercrítico\")"
   ]
  },
  {
   "cell_type": "markdown",
   "id": "aded2c93-6ef4-400d-b0af-60cf5cbf52eb",
   "metadata": {},
   "source": [
    "[Regresar](#intro)"
   ]
  },
  {
   "cell_type": "markdown",
   "id": "c058afcf",
   "metadata": {},
   "source": [
    "<a id='ejemplos'></a>\n",
    "## Ejemplos\n",
    "\n",
    "### Ejemplo: FHN revisitado\n",
    "\n",
    "Ahora estudiaremos el modelo FHN desde una perspectiva de bifurcaciones. Recordamos que este modelo puede presentar uno, tres (y por continuidad, dos) puntos de equilibrio. Los tres puntos de equilibrio estaban sujetos a desaparecer (de dos en dos) ante cambios de $I$. Esto se explica mediante dos bifurcaciones silla-nodo: una en la que chocan el estado hiperpolarizado con el umbral, y el otro donde chocan el umbral con el estado despolarizado. Esto no es un nuevo tipo de bifurcación, sino dos bifurcaciones \"independientes\". Lo que sí va a cambiar de manera interesante es el diagrama de bifurcación."
   ]
  },
  {
   "cell_type": "code",
   "execution_count": null,
   "id": "09e2f5d8",
   "metadata": {},
   "outputs": [],
   "source": [
    "beta = 0.5\n",
    "\n",
    "def FHN_bif(V,I):\n",
    "    return beta*V-V**3/3+I\n",
    "\n",
    "def dFHN_bif(V,I):\n",
    "    return beta-V**2\n",
    "\n",
    "I = linspace(-0.3,0.3,51)\n",
    "V = linspace(-1.5,1.5,201)\n",
    "\n",
    "p = bif_diag(V,I,FHN_bif,dFHN_bif)\n",
    "p = plt.xlabel(\"I\")\n",
    "p = plt.ylabel(\"V_0\")\n",
    "p = plt.title(\"Diagrama de bifurcación, FitzHugh-Nagumo(1D)\")"
   ]
  },
  {
   "cell_type": "markdown",
   "id": "b0cd389c",
   "metadata": {},
   "source": [
    "### Ejemplo 2: $I_{Na_p,L}$ revisitado (y compensado)\n",
    "\n",
    "Intuituvamente, si el modelo FHN y el modelo $I_{Na_p,L}$ muestran la misma dinámica, tiene sentido que los diagramas de bifurcación de ambos modelos dibujen (esencialmente) la misma figura de sillas-nodo alternantes. Sin embargo, el modelo biofísico tiene más parámetros que podemos usar para investigar bifurcaciones, como la conductancia $g_{\\rm Na}$. En la siguiente figura investigamos un poco sobre qué cambios dinámicos sufre este modelo cuando dicha conductania es variada. En particular nos interesa conocer la diferencia cualtitiva entre considerar y no considerar la corriente de sodio."
   ]
  },
  {
   "cell_type": "code",
   "execution_count": null,
   "id": "14ad734f",
   "metadata": {},
   "outputs": [],
   "source": [
    "def mNainf(V):\n",
    "    return 1/(1+exp(-(V+25)/5))\n",
    "\n",
    "def dmNainf(V):\n",
    "    return 0.2*(exp(-(V+25)/5))/(1+exp(-(V+25)/5))**2\n",
    "\n",
    "I = -60.0\n",
    "gL = 10.0\n",
    "ENa = 40.0\n",
    "EL = -50.0\n",
    "\n",
    "def INapL_bif(V,gNa):\n",
    "    return I-gL*(V-EL)-gNa*mNainf(V)*(V-ENa)\n",
    "\n",
    "def dINapL_bif(V,gNa):\n",
    "    return -gL-gNa*mNainf(V)-gNa*dmNainf(V)*(V-ENa)\n",
    "\n",
    "GNa = linspace(0.0,120.0,51)\n",
    "V = linspace(-75.0,60.0,75001)\n",
    "\n",
    "p = bif_diag(V,GNa,INapL_bif,dINapL_bif)\n",
    "p = plt.xlabel(\"gNa\")\n",
    "p = plt.ylabel(\"V_0\")\n",
    "p = plt.title(\"Diagrama de bifurcación, INapL\")\n",
    "p = plt.ylim(-80,60)"
   ]
  },
  {
   "cell_type": "markdown",
   "id": "ea1a2840",
   "metadata": {},
   "source": [
    "Por último, haremos una pequeña modificación al modelo, de manera que la corriente aplicada se calcule en función de la conductancia $g_{\\rm Na}$. Esto se hace mediante\n",
    "\n",
    "$$I=(g_{Na}-g_{Na,TC})m_{Na,\\infty}(V_{TC})(V_{TC}-E_{Na}),$$\n",
    "\n",
    "donde $g_{Na,TC}$ y $V_{TC}$ son constantes fijas. En total, el término de arriba es negativo, por lo que la corriente aplicada decrece conforme $g_{\\rm Na}$ crece. Así intentamos compensar la ganancia neta dada por el incremento de la densidad de la corriente de sodio, pero sin perder los efectos de su activación."
   ]
  },
  {
   "cell_type": "code",
   "execution_count": null,
   "id": "0f40c9ef",
   "metadata": {},
   "outputs": [],
   "source": [
    "VTC = -35.\n",
    "gNaTC = 16.785\n",
    "I=0.0\n",
    "\n",
    "def INapL_TC_bif(V,gNa):\n",
    "    return I-gL*(V-EL)-gNa*mNainf(V)*(V-ENa)+(gNa-gNaTC)*mNainf(VTC)*(VTC-ENa)\n",
    "\n",
    "GNa = linspace(0.0,20.0,51)\n",
    "V = linspace(-75.0,25.0,70001)\n",
    "\n",
    "p = bif_diag(V,GNa,INapL_TC_bif,dINapL_bif)\n",
    "p = plt.xlabel(\"gNa\")\n",
    "p = plt.ylabel(\"V_0\")\n",
    "p = plt.title(\"Diagrama de bifurcación, INapL compensado\")"
   ]
  },
  {
   "cell_type": "markdown",
   "id": "295b259c-7ea5-499a-97f3-2e972df64781",
   "metadata": {},
   "source": [
    "[Regresar](#intro)"
   ]
  },
  {
   "cell_type": "code",
   "execution_count": 3,
   "id": "3fbfc087-2e4d-442b-9a0d-c9715944a3cf",
   "metadata": {},
   "outputs": [],
   "source": [
    "C = 1.0\n",
    "gKir = 2.0\n",
    "gL = 0.2\n",
    "EL = -50.0\n",
    "EK = -80.0\n",
    "Vh = -76.0\n",
    "Del = -12.0"
   ]
  },
  {
   "cell_type": "code",
   "execution_count": 4,
   "id": "fa2565d9-c610-41cf-8d99-9975bb94a260",
   "metadata": {},
   "outputs": [],
   "source": [
    "def hinf(V):\n",
    "\n",
    "    return 1/(1+exp((Vh-V)/Del))\n",
    "\n",
    "def dhinf(V):\n",
    "\n",
    "    return (hinf(V))**2*exp((Vh-V)/Del)*1/Del"
   ]
  },
  {
   "cell_type": "code",
   "execution_count": 5,
   "id": "b53d48a7-2b69-49ea-b9db-d419bfbd9b89",
   "metadata": {},
   "outputs": [],
   "source": [
    "def kir(V,I):\n",
    "\n",
    "    return 1/C*(I-gL*(V-EL)-gKir*hinf(V)*(V-EK))\n",
    "\n",
    "def dkir(V,I):\n",
    "\n",
    "    return 1/C*(-gL-gKir*hinf(V)-gKir*dhinf(V)*(V-EK))"
   ]
  },
  {
   "cell_type": "code",
   "execution_count": 26,
   "id": "8b932c3d-e2fe-4b18-aa45-289986b52272",
   "metadata": {},
   "outputs": [
    {
     "data": {
      "image/png": "[encoded data removed]",
      "text/plain": [
       "<Figure size 640x480 with 1 Axes>"
      ]
     },
     "metadata": {},
     "output_type": "display_data"
    }
   ],
   "source": [
    "Ivec = linspace(5.0,7.0,51)\n",
    "Vvec = linspace(-70.0,-20.0,701)\n",
    "\n",
    "p = bif_diag(Vvec,Ivec,kir,dkir)\n",
    "p = plt.xlabel(\"$g_{Na}$\")\n",
    "p = plt.ylabel(\"$V_0$\")\n",
    "p = plt.title(\"Diagrama de bifurcación, INapL compensado\")"
   ]
  },
  {
   "cell_type": "code",
   "execution_count": 13,
   "id": "1cd61b07-3851-4b24-bbb8-a48df73ad409",
   "metadata": {},
   "outputs": [
    {
     "data": {
      "image/png": "[encoded data removed]",
      "text/plain": [
       "<Figure size 1200x600 with 1 Axes>"
      ]
     },
     "metadata": {},
     "output_type": "display_data"
    }
   ],
   "source": [
    "I0 = 6.0\n",
    "\n",
    "Vphase = linspace(-75,25,21)\n",
    "\n",
    "def kir_param(V):\n",
    "\n",
    "    return kir(V,I0)\n",
    "\n",
    "p = phase(kir_param,Vphase)"
   ]
  }
 ],
 "metadata": {
  "@webio": {
   "lastCommId": null,
   "lastKernelId": null
  },
  "kernelspec": {
   "display_name": "Python 3 (ipykernel)",
   "language": "python",
   "name": "python3"
  },
  "language_info": {
   "codemirror_mode": {
    "name": "ipython",
    "version": 3
   },
   "file_extension": ".py",
   "mimetype": "text/x-python",
   "name": "python",
   "nbconvert_exporter": "python",
   "pygments_lexer": "ipython3",
   "version": "3.12.4"
  }
 },
 "nbformat": 4,
 "nbformat_minor": 5
}
