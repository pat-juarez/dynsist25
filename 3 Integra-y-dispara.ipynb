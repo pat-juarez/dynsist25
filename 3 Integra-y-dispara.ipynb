{
 "cells": [
  {
   "cell_type": "markdown",
   "id": "324a4555",
   "metadata": {},
   "source": [
    "# Modelos integra-y-dispara\n",
    "\n",
    "Una parte importante del estudio y desarrollo de modelos predictivos para el potencial de membrana se concentró en lo referente a las propiedades *pasivas* de la neurona; es decir, la forma en que responde a estímulos externos sin considerar la forma en que la membrana misma se regenera. Estos modelos se basan en la ley de la capacitancia, \n",
    "\n",
    "$$C\\dot{V}=I(t),$$\n",
    "\n",
    "donde $I(t)$ es la función de corriente aplicada. Mientras que estos modelos tienen una solución evidente, que consiste en integrar la función $I(t)$, no son capaces de modelar por sí mismos fenómenos complejos de excitabilidad, como la generación de potenciales de acción, la repolarización de la membrana, y la existencia de períodos refractarios. Es entonces que la neurona se *resetea* manualmente tras alcanzar un valor predeterminado de umbral y se regresa al potencial de reposo. A este tipo de modelos les conocemos como **modelos integra-y-dispara (IF)**. Nosotrxs estudiaremos cuatro versiones:\n",
    "\n",
    "- El modelo de Lapicque (1907)\n",
    "- IF con fuga\n",
    "- IF cuadrático\n",
    "- IF exponencial\n",
    "\n",
    "Nos servirán también para presentar algunas herramientas básicas de análisis computacional para modelos neuronales."
   ]
  },
  {
   "cell_type": "code",
   "execution_count": null,
   "id": "6bd99174",
   "metadata": {},
   "outputs": [],
   "source": [
    "# Cargamos la paquetería\n",
    "\n",
    "import numpy as np\n",
    "import matplotlib.pyplot as plt\n",
    "from numpy.core.function_base import linspace\n",
    "\n",
    "from scipy.integrate import solve_ivp\n",
    "from scipy.integrate import odeint\n",
    "from numpy import sqrt, exp, sin, cos"
   ]
  },
  {
   "cell_type": "markdown",
   "id": "eea08b53",
   "metadata": {},
   "source": [
    "Para validar nuestros modelos usaremos un ruido blanco filtrado. La manera en que lo generaremos es mediante una ecuación diferencial estocástica de la forma\n",
    "\n",
    "$$\\mathrm{d}x=-x\\mathrm{d}t+\\sigma\\mathrm{d}W_t$$,\n",
    "\n",
    "donde $\\sigma\\geq0$ es un término constante de deriva, que en resumidas cuentas indica qué tan fuerte es la aleatoriedad en nuestro sistema. Nosotrxs consideraremos un valor fijo y en general no nos preocuparemos por variarlo."
   ]
  },
  {
   "cell_type": "code",
   "execution_count": null,
   "id": "a3b075fa",
   "metadata": {},
   "outputs": [],
   "source": [
    "drift = 0.01\n",
    "t = linspace(0,3000,300001)\n",
    "\n",
    "def center(x):                                                     # Centro de la EDE\n",
    "    return -x\n",
    "\n",
    "def noise(t):                                                      # Generación del ruido\n",
    "    x = np.zeros(len(t))\n",
    "    dt = t[1]-t[0]\n",
    "    \n",
    "    for k in range(len(t)-1):\n",
    "        dW = np.random.normal(loc = 0.0,scale = np.sqrt(dt))\n",
    "        x[k+1] = x[k]+dt*center(x[k])+dW*drift\n",
    "    \n",
    "    return x\n",
    "\n",
    "noise_st = noise(t)                                                # Éste es el vector aleatorio con el que trabajaremos"
   ]
  },
  {
   "cell_type": "markdown",
   "id": "55266227",
   "metadata": {},
   "source": [
    "Abajo definimos una función graficadora. Esto se hace pues python no grafica automáticamente funciones que involucren valores booleanos."
   ]
  },
  {
   "cell_type": "code",
   "execution_count": null,
   "id": "edf63830",
   "metadata": {},
   "outputs": [],
   "source": [
    "def graph(t,f):\n",
    "    \n",
    "    y = np.zeros(len(t))\n",
    "    \n",
    "    for k in range(len(t)):\n",
    "        y[k] = f(t[k])\n",
    "        \n",
    "    return y\n",
    "\n",
    "def HS(t):                                  # Función de Heaviside\n",
    "    return t>=0"
   ]
  },
  {
   "cell_type": "markdown",
   "id": "78dc4305",
   "metadata": {},
   "source": [
    "Echemos un vistazo rápido al término de ruido blanco que generamos. Es importante revisar la escala en que lo produjimos, pues de esto depende qué tanto aparece naturalmente en nuestros modelos."
   ]
  },
  {
   "cell_type": "code",
   "execution_count": null,
   "id": "9a1c1533",
   "metadata": {},
   "outputs": [],
   "source": [
    "plt.plot(t,noise_st)"
   ]
  },
  {
   "cell_type": "markdown",
   "id": "e4982fba",
   "metadata": {},
   "source": [
    "## El modelo de Lapicque\n",
    "\n",
    "La primera instancia de modelos IF que revisaremos fue planteada en 1907 por Louis Lapicque y considera un reinicio manual tras integrar la función $I(t)$. El modelo queda escrito como\n",
    "\n",
    "$$\\begin{cases}\n",
    "\\dot{V}(t)=\\dfrac{I(t)}{C}:&\\, V(t)\\leq V_{th},\\\\\n",
    "V(t)\\to V_{reset}:&\\,V(t)>V_{th},\n",
    "\\end{cases} $$\n",
    "\n",
    "donde $V_{th}$ es el umbral (correspondiente al punto más despolarizado de la membrana **antes** del disparo) y $V_{reset}$ es el potencial de reposo de la neurona. Una hipótesis natural es que $V_{reset}<V_{th}$. *Pregunta: ¿qué pasaría si $V_{th}<V_{reset}$?**\n",
    "\n",
    "En términos matemáticos este modelo es mixto, combinando una regla de evolución dinámica con una redefinición condicional. Para resolverlo numéricamente haremos un método de Euler que permita incorporar la condición $V(t)\\geq V_{th}$. También incluiremos el vector aleatorio que generamos arriba con un factor controlable de intensidad."
   ]
  },
  {
   "cell_type": "code",
   "execution_count": null,
   "id": "f2a597cd",
   "metadata": {},
   "outputs": [],
   "source": [
    "C = 1.0                                            # Capacidad eléctrica\n",
    "\n",
    "# t vector de tiempos\n",
    "# I corriente aplicada\n",
    "# Vth umbral\n",
    "# Vreset reseteo\n",
    "# Vspike máxima despolarización\n",
    "# r intensidad del ruido\n",
    "\n",
    "def LapIF(t,I,Vth,Vreset,Vspike,r):\n",
    "    \n",
    "    V = np.zeros(len(t))\n",
    "    V[0] = Vreset\n",
    "    dt = t[1]-t[0]\n",
    "    \n",
    "    for k in range(len(t)-1):\n",
    "        \n",
    "        Vi = V[k]\n",
    "        ti = t[k]\n",
    "        Vf = V[k]+dt*(I(t[k])+r*noise_st[k])/C\n",
    "        \n",
    "        if Vf<=Vth:\n",
    "            \n",
    "            V[k+1] = Vf\n",
    "            \n",
    "        elif Vf>Vth and Vf<Vspike:\n",
    "            \n",
    "            V[k+1] = Vspike\n",
    "            \n",
    "        else:\n",
    "            \n",
    "            V[k+1] = Vreset\n",
    "            \n",
    "    return V"
   ]
  },
  {
   "cell_type": "markdown",
   "id": "0a5b5bcd",
   "metadata": {},
   "source": [
    "En la siguiente celda podemos verificar el reseteo del potencial de membrana al alcanzar el umbral. Notemos cómo la aleatoriedad se hace presente con suficiente intensidad."
   ]
  },
  {
   "cell_type": "code",
   "execution_count": null,
   "id": "d5611f80",
   "metadata": {},
   "outputs": [],
   "source": [
    "def I1(t):\n",
    "    return 0.1 # Corriente aplicada\n",
    "\n",
    "Vth = -20.0\n",
    "Vreset = -60.0\n",
    "Vspike = 20.0\n",
    "noise_int = 0.0\n",
    "\n",
    "V = LapIF(t,I1,Vth,Vreset,Vspike,noise_int)"
   ]
  },
  {
   "cell_type": "code",
   "execution_count": null,
   "id": "0fd81957",
   "metadata": {},
   "outputs": [],
   "source": [
    "fig, axs = plt.subplots(2,1,figsize=(13,6), gridspec_kw={'height_ratios': [2,1]})\n",
    "fig.suptitle(\"Modelo de Lapicque\")\n",
    "\n",
    "axs[0].plot(t,V,color=\"red\")\n",
    "axs[0].set_ylim([Vreset-5.0,Vspike+5.0])\n",
    "axs[0].set_ylabel(\"V(t)\")\n",
    "\n",
    "axs[1].plot(t,I1(t)+noise_int*noise_st)\n",
    "axs[1].set_ylabel(\"I(t)\")\n",
    "axs[1].set_xlabel(\"t\")"
   ]
  },
  {
   "cell_type": "markdown",
   "id": "edf46f25",
   "metadata": {},
   "source": [
    "Ahora trabajemos sin aleatoriedad, y revisemos cómo se comporta el voltaje ante la aplicación de *pulsos* de corriente."
   ]
  },
  {
   "cell_type": "code",
   "execution_count": null,
   "id": "6e9d0e72",
   "metadata": {},
   "outputs": [],
   "source": [
    "def I2(t):\n",
    "    return 0.5*(t>=200)*(t<=500)+0.2*(t>=1000)           # Dos pulsos: uno de 300ms de duración y el otro de 2s\n",
    "\n",
    "noise_int = 0.0                                          # Sin aleatoriedad\n",
    "\n",
    "V = LapIF(t,I2,Vth,Vreset,Vspike,noise_int)"
   ]
  },
  {
   "cell_type": "code",
   "execution_count": null,
   "id": "bde7ef6f",
   "metadata": {},
   "outputs": [],
   "source": [
    "fig, axs = plt.subplots(2,1,figsize=(13,6), gridspec_kw={'height_ratios': [2,1]})\n",
    "fig.suptitle(\"Modelo de Lapicque\")\n",
    "\n",
    "axs[0].plot(t,V,color=\"red\")\n",
    "axs[0].set_ylim([Vreset-5.0,Vspike+5.0])\n",
    "axs[0].set_ylabel(\"V(t)\")\n",
    "\n",
    "axs[1].plot(t,I2(t)+noise_int*noise_st)\n",
    "axs[1].set_ylabel(\"I(t)\")\n",
    "axs[1].set_xlabel(\"t\")"
   ]
  },
  {
   "cell_type": "markdown",
   "id": "e0a64dc8",
   "metadata": {},
   "source": [
    "Podemos automatizar la aplicación de pulsos de manera adecuada. En la siguiente celda la corriente aplicada sigue una forma tipo-seno pero por bloques. Podemos controlar la altura de estos bloques, lo que conlleva a variación en el número de potenciales de acción."
   ]
  },
  {
   "cell_type": "code",
   "execution_count": null,
   "id": "b5bf31db",
   "metadata": {},
   "outputs": [],
   "source": [
    "def I3(t):\n",
    "    \n",
    "    return HS(sin(0.01*t))                  # Bloques periódicos\n",
    "\n",
    "V = LapIF(t,I3,Vth,Vreset,Vspike,noise_int)"
   ]
  },
  {
   "cell_type": "code",
   "execution_count": null,
   "id": "0468720e",
   "metadata": {},
   "outputs": [],
   "source": [
    "fig, axs = plt.subplots(2,1,figsize=(13,6), gridspec_kw={'height_ratios': [2,1]})\n",
    "fig.suptitle(\"Modelo de Lapicque\")\n",
    "\n",
    "axs[0].plot(t,V,color=\"red\")\n",
    "axs[0].set_ylim([Vreset-5.0,Vspike+5.0])\n",
    "axs[0].set_ylabel(\"V(t)\")\n",
    "\n",
    "axs[1].plot(t,I3(t)+noise_int*noise_st)\n",
    "axs[1].set_ylabel(\"I(t)\")\n",
    "axs[1].set_xlabel(\"t\")"
   ]
  },
  {
   "cell_type": "markdown",
   "id": "a493c5b0",
   "metadata": {},
   "source": [
    "La simulación anterior hace evidente una falla importante de los modelos IF: la **memoria infinita**. Esto quiere decir que, a falta de estimulaciones posteriores, el estado del sistema (en este caso, el voltaje) recuerda **indefinidamente** el último estímulo que recibió para todo tiempo futuro. También podemos notar que este modelo no incorpora períodos refractarios por sí mismo, sino que lo deja al tipo de corriente que se le aplique."
   ]
  },
  {
   "cell_type": "markdown",
   "id": "1650a6d5",
   "metadata": {},
   "source": [
    "Por último, notemos la forma en que la frecuencia de disparo varía con la intensidad de la corriente aplicada. Esto lo podemos hacer manualmente, calculando el número de espigas que presenta a lo largo de la simulación. ¿De qué forma varía este número al incrementar $I(t)$?"
   ]
  },
  {
   "cell_type": "code",
   "execution_count": null,
   "id": "37861cba",
   "metadata": {},
   "outputs": [],
   "source": [
    "def I4(t):\n",
    "    return 0.5*(t>=500)\n",
    "\n",
    "V = LapIF(t,I4,Vth,Vreset,Vspike,0.0)\n",
    "\n",
    "fig, axs = plt.subplots(2,1,figsize=(13,6), gridspec_kw={'height_ratios': [2,1]})\n",
    "fig.suptitle(\"Modelo de Lapicque\")\n",
    "\n",
    "axs[0].plot(t,V,color=\"red\")\n",
    "axs[0].set_ylim([Vreset-5.0,Vspike+5.0])\n",
    "axs[0].set_ylabel(\"V(t)\")\n",
    "\n",
    "axs[1].plot(t,graph(t,I4))\n",
    "axs[1].set_ylabel(\"I(t)\")\n",
    "axs[1].set_xlabel(\"t\")"
   ]
  },
  {
   "cell_type": "code",
   "execution_count": null,
   "id": "a35d2b07",
   "metadata": {},
   "outputs": [],
   "source": [
    "plt.plot([0.1,0.2,0.3],[6,12,18])\n",
    "plt.xlabel(\"Intensidad\")\n",
    "plt.ylabel(\"Frecuencia\")"
   ]
  },
  {
   "cell_type": "markdown",
   "id": "376e38da",
   "metadata": {},
   "source": [
    "La frecuencua en el modelo de Lapicque incrementa linealmente con la intensidad de la corriente aplicada."
   ]
  },
  {
   "cell_type": "markdown",
   "id": "fd9bd478",
   "metadata": {},
   "source": [
    "Con esta información podemos elaborar una gráfica de frecuencia contra intensidad, o **gráfica FI**."
   ]
  },
  {
   "cell_type": "markdown",
   "id": "4bcda3bd",
   "metadata": {},
   "source": [
    "## Modelo IF con fuga (leaky)\n",
    "\n",
    "Un punto intermedio entre las propiedad pasivas de la membrana y la dinámica interior considera la integración de una *corriente de fuga*, principalmente asociada a aniones, que es una corriente óhmica de la forma\n",
    "\n",
    "$$I_L=g_L(V-E_L).$$\n",
    "\n",
    "Más adelante veremos que las corrientes de fuga disminuyen la excitabilidad de la neurona y la *ayudan* a alcanzar su potencial de reposo. El modelo IF que estudiaremos ahora toma la siguiente forma,\n",
    "\n",
    "$$\\begin{cases}\n",
    "\\dot{V}(t)=\\dfrac{1}{C}\\left(I(t)-g_L(V-E_L)\\right):&\\, V(t)\\leq V_{th},\\\\\n",
    "V(t)\\to V_{reset}:&\\,V(t)>V_{th},\n",
    "\\end{cases} $$\n",
    "\n",
    "donde $g_L>0$ es la conductancia de la corriente de fuga, y $E_L\\in\\mathbb{R}$ es el potencial de reversión."
   ]
  },
  {
   "cell_type": "code",
   "execution_count": null,
   "id": "b87fe999",
   "metadata": {},
   "outputs": [],
   "source": [
    "C = 1.0\n",
    "g = 0.1\n",
    "E = -0.5\n",
    "\n",
    "C = 1.0                                            # Capacidad eléctrica\n",
    "\n",
    "def LeakIF(t,I,Vth,Vreset,Vspike,r):\n",
    "    \n",
    "    V = np.zeros(len(t))\n",
    "    V[0] = Vreset\n",
    "    dt = t[1]-t[0]\n",
    "    \n",
    "    for k in range(len(t)-1):\n",
    "        \n",
    "        Vf = V[k]+dt*(I(t[k])-g*(V[k]-E)+r*noise_st[k])/C\n",
    "        \n",
    "        if V[k]<=Vth:\n",
    "            \n",
    "            V[k+1] = Vf\n",
    "            \n",
    "        elif V[k]>Vth and V[k]<Vspike:\n",
    "            \n",
    "            V[k+1] = Vspike\n",
    "            \n",
    "        elif V[k]>= Vspike:\n",
    "            \n",
    "            V[k+1] = Vreset\n",
    "            \n",
    "    return V"
   ]
  },
  {
   "cell_type": "markdown",
   "id": "723b3a32",
   "metadata": {},
   "source": [
    "Notemos que ya no hay, estrictamente hablando, un fenómeno de memoria infinita en el modelo con fuga. Podemos comparar esto con el modelo de Lapicque."
   ]
  },
  {
   "cell_type": "code",
   "execution_count": null,
   "id": "d36df487",
   "metadata": {},
   "outputs": [],
   "source": [
    "Vth = 1.0\n",
    "Vreset = -1.0\n",
    "Vspike = 3.0\n",
    "noise_int = 0.0\n",
    "\n",
    "def I5(t):\n",
    "    \n",
    "    return 0.15                  # Bloques periódicos\n",
    "\n",
    "V = LeakIF(t,I5,Vth,Vreset,Vspike,noise_int)\n",
    "\n",
    "fig, axs = plt.subplots(2,1,figsize=(13,6), gridspec_kw={'height_ratios': [2,1]})\n",
    "fig.suptitle(\"Modelo IF con fuga\")\n",
    "\n",
    "axs[0].plot(t,V,color=\"red\")\n",
    "axs[0].set_ylim([Vreset-1.0,Vspike+1.0])\n",
    "axs[0].set_ylabel(\"V(t)\")\n",
    "\n",
    "axs[1].plot(t,graph(t,I5)+noise_int*noise_st)\n",
    "axs[1].set_ylabel(\"I(t)\")\n",
    "axs[1].set_xlabel(\"t\")"
   ]
  },
  {
   "cell_type": "code",
   "execution_count": null,
   "id": "940d13dd",
   "metadata": {},
   "outputs": [],
   "source": [
    "def I2(t):\n",
    "    return 0.15*(t>=200)*(t<=500)+0.15005*(t>=1000)           # Dos pulsos: uno de 300ms de duración y el otro de 2s\n",
    "\n",
    "noise_int = 0.0\n",
    "\n",
    "V = LeakIF(t,I2,Vth,Vreset,Vspike,noise_int)\n",
    "\n",
    "fig, axs = plt.subplots(2,1,figsize=(13,6), gridspec_kw={'height_ratios': [2,1]})\n",
    "fig.suptitle(\"Modelo IF con fuga\")\n",
    "\n",
    "axs[0].plot(t,V,color=\"red\")\n",
    "axs[0].set_ylim([Vreset-1.0,Vspike+1.0])\n",
    "axs[0].set_ylabel(\"V(t)\")\n",
    "\n",
    "axs[1].plot(t,graph(t,I2)+noise_int*noise_st)\n",
    "axs[1].set_ylabel(\"I(t)\")\n",
    "axs[1].set_xlabel(\"t\")"
   ]
  },
  {
   "cell_type": "code",
   "execution_count": null,
   "id": "f048f97c",
   "metadata": {},
   "outputs": [],
   "source": [
    "def I4(t):\n",
    "    return 0.15002*(t>=2000)\n",
    "\n",
    "noise_int = 0.0\n",
    "\n",
    "V = LeakIF(t,I4,Vth,Vreset,Vspike,noise_int)\n",
    "\n",
    "fig, axs = plt.subplots(2,1,figsize=(13,6), gridspec_kw={'height_ratios': [2,1]})\n",
    "fig.suptitle(\"Modelo IF con fuga\")\n",
    "\n",
    "axs[0].plot(t,V,color=\"red\")\n",
    "axs[0].set_ylim([Vreset-1.0,Vspike+1.0])\n",
    "axs[0].set_ylabel(\"V(t)\")\n",
    "\n",
    "axs[1].plot(t,graph(t,I4)+noise_int*noise_st)\n",
    "axs[1].set_ylabel(\"I(t)\")\n",
    "axs[1].set_xlabel(\"t\")"
   ]
  },
  {
   "cell_type": "markdown",
   "id": "41f980ba",
   "metadata": {},
   "source": [
    "<blockquote>\n",
    "\n",
    "### Tarea 1:\n",
    "\n",
    "**Ejercicio 1.-** Grafica la solución del modelo de Lapicque para las siguientes corrientes aplicadas:\n",
    "\n",
    "- $I(t)=k$, con $k$ constante\n",
    "- $I(t)=k\\sin(0.1 t)$\n",
    "\n",
    "Elige al menos tres valores distintos para $k$ en cada caso y compara cómo cambia la evolución del potencial de membrana (debes elegir $k$ para que en efecto se aprecie un cambio). Comenta tus descubrimientos.\n",
    "\n",
    "**Ejercicio 2.-** Grafica la solución del modelo IF con fuga para las siguientes corrientes aplicadas:\n",
    "\n",
    "- $I(t)=k$,con $k$ constante\n",
    "- $I(t)=k\\sin(0.1 t)$\n",
    "\n",
    "Elige al menos tres valores distintos para $k$ en cada caso y compara cómo cambia la evolución del potencial de membrana (debes elegir $k$ para que en efecto se aprecie un cambio). Comenta tus descubrimientos.\n",
    "\n",
    "**Ejercicio 3.-** Grafica las curvas FI para los dos ejercicios anteriores en el caso de las corrientes constantes.\n",
    "\n",
    "**Ejercicio 4.-** ¿Qué pasa en el modelo IF con fuga cuando $I(t)=0$ y $E>V_{th}$?\n",
    "\n",
    "**Ejercicio 5.-** ¿Cómo implementarías, en términos de código o de matemáticas, un período refractario para cualquiera de estos modelos?\n",
    "    \n",
    "</blockquote>"
   ]
  },
  {
   "cell_type": "markdown",
   "id": "4036a584",
   "metadata": {},
   "source": [
    "## Modelo IF cuadrático (QIF)\n",
    "\n",
    "El modelo cuadrático sigue el mismo esquema de reseteo de los demás modelos IF, solo que ahora la ecuación diferencial depende cuadráticamente del potencial de membrana. Las reglas de evolución toman la forma\n",
    "\n",
    "$$\\begin{cases}\n",
    "\\dot{V}(t)=V^2(t)+I(t)&:\\, V(t)\\leq V_{max},\\\\\n",
    "V(t)\\to V_{reset}&:\\,V(t)>V_{max},\n",
    "\\end{cases} $$\n",
    "\n",
    "lo que permite generar espigas más parecidas a las observadas en experimentos. El parámetro $V_{max}$ representa el estado más despolarizado de la neurona. A diferencia de las propuestas anteriores, el modelo QIF tiene un umbral definido que no requiere de imposiciones por parte del observador. Lo que es más, la forma concreta de la evolución subumbral garantiza que el valor máximo $V_{max}$ se alcanza siempre que $I(t)>0$ durante el suficiente tiempo. A esto le llamamos un **tiempo de escape finito**.\n",
    "\n",
    "**Nota:** si la corriente aplicada no es constante, la expresión de la evolución subumbral puede involucrar una ecuación diferencial para la que no existen soluciones analíticas."
   ]
  },
  {
   "cell_type": "code",
   "execution_count": null,
   "id": "e5b8d50b",
   "metadata": {},
   "outputs": [],
   "source": [
    "def QIF(t,I,Vmax,Vreset,r):\n",
    "    \n",
    "    V = np.zeros(len(t))\n",
    "    dt = t[1]-t[0]\n",
    "    \n",
    "    for k in range(len(t)-1):\n",
    "        \n",
    "        Vf = V[k]+dt*(V[k]**2+I(t[k])+r*noise_st[k])\n",
    "        \n",
    "        if Vf<=Vmax:\n",
    "            \n",
    "            V[k+1] = Vf\n",
    "                        \n",
    "        else:\n",
    "            \n",
    "            V[k+1] = Vreset\n",
    "            \n",
    "    return V"
   ]
  },
  {
   "cell_type": "code",
   "execution_count": null,
   "id": "3ea41680",
   "metadata": {},
   "outputs": [],
   "source": [
    "def I2(t):\n",
    "    return -1+0.99*(t>=200)*(t<=500)+1.005*(t>=1000)           # Dos pulsos: uno de 300ms de duración y el otro de 2s\n",
    "\n",
    "Vmax = 10.0\n",
    "Vreset = -1.0\n",
    "noise_int = 0.0\n",
    "\n",
    "V = QIF(t,I2,Vmax,Vreset,noise_int)\n",
    "\n",
    "fig, axs = plt.subplots(2,1,figsize=(13,6), gridspec_kw={'height_ratios': [2,1]})\n",
    "fig.suptitle(\"Modelo QIF\")\n",
    "\n",
    "axs[0].plot(t,V,color=\"red\")\n",
    "axs[0].set_ylim([Vreset-1.0,Vmax+1.0])\n",
    "axs[0].set_ylabel(\"V(t)\")\n",
    "\n",
    "axs[1].plot(t,graph(t,I2)+noise_int*noise_st)\n",
    "axs[1].set_ylabel(\"I(t)\")\n",
    "axs[1].set_xlabel(\"t\")"
   ]
  },
  {
   "cell_type": "markdown",
   "id": "dc3b6a66",
   "metadata": {},
   "source": [
    "## Modelo IF exponencial (EIF)\n",
    "\n",
    "El último modelo integra-y-dispara que discutiremos es el modelo exponencial (EIF). Como se aprecia abajo, el modelo incluye un término exponencial *centrado* alrededor de un valor de umbral intrínseco de la membrana $V_T$, una rapidez de activación $\\Delta_T$, y una corriente de fuga como antes.\n",
    "\n",
    "$$\\begin{cases}\n",
    "\\dot{V}(t)=-g(V-E)+\\Delta_T\\exp\\left(\\dfrac{V-V_T}{\\Delta_T}\\right)+I(t)&:\\, V(t)\\leq V_{max},\\\\\n",
    "V(t)\\to V_{reset}&:\\,V(t)>V_{max}.\n",
    "\\end{cases} $$\n",
    "\n",
    "Las espigas generadas por el EIF son bastante similares a las que aparecieron en el QIF. De hecho estos modelos son cualitativamente equivalentes, tanto en la forma de sus potenciales de acción como en la dinámica subyaciente. En algunos contextos, como en el modelado de neuronas piramidales, se prefiere el modelo exponencial por su cercanía a la fisiología de las neuronas estudiadas.\n",
    "\n",
    "**Nota:** por la misma naturaleza exponencial del modelo EIF, la evolución subumbral se da por medio de una ecuación diferencial para la que no hemos visto ningún método de resolución. "
   ]
  },
  {
   "cell_type": "code",
   "execution_count": null,
   "id": "9161a76d",
   "metadata": {},
   "outputs": [],
   "source": [
    "g = 1.0                                                                        # Conductancia de la corriente de fuga\n",
    "E = 0.0                                                                        # Potencial de reversión de la corriente de fuga\n",
    "DT = 1.0                                                                       # Rapidez de la iniciación de los PAs\n",
    "VT = 1.0                                                                       # Umbral intrínseco\n",
    "\n",
    "def EIF(t,I,Vmax,Vreset,r):\n",
    "    \n",
    "    V = np.zeros(len(t))\n",
    "    dt = t[1]-t[0]\n",
    "    \n",
    "    for k in range(len(t)-1):\n",
    "        \n",
    "        Vf = V[k]+dt*(DT*exp((V[k]-VT)/DT)-g*(V[k]-E)+I(t[k])+r*noise_st[k])\n",
    "        \n",
    "        if Vf<=Vmax:\n",
    "            \n",
    "            V[k+1] = Vf\n",
    "                        \n",
    "        else:\n",
    "            \n",
    "            V[k+1] = Vreset\n",
    "            \n",
    "    return V"
   ]
  },
  {
   "cell_type": "code",
   "execution_count": null,
   "id": "9b09fed6",
   "metadata": {},
   "outputs": [],
   "source": [
    "Vmax = 10.0\n",
    "Vreset = -1.0\n",
    "noise_int = 0.0\n",
    "\n",
    "def I2(t):\n",
    "    return -1+0.99*(t>=200)*(t<=500)+1.005*(t>=1000)           # Dos pulsos: uno de 300ms de duración y el otro de 2s\n",
    "\n",
    "V = EIF(t,I2,Vmax,Vreset,noise_int)\n",
    "\n",
    "fig, axs = plt.subplots(2,1,figsize=(13,6), gridspec_kw={'height_ratios': [2,1]})\n",
    "fig.suptitle(\"Modelo Exponencial\")\n",
    "\n",
    "axs[0].plot(t,V,color=\"red\")\n",
    "axs[0].set_ylim([Vreset-1.0,Vmax+1.0])\n",
    "axs[0].set_ylabel(\"V(t)\")\n",
    "\n",
    "axs[1].plot(t,graph(t,I2)+noise_int*noise_st)\n",
    "axs[1].set_ylabel(\"I(t)\")\n",
    "axs[1].set_xlabel(\"t\")"
   ]
  },
  {
   "cell_type": "markdown",
   "id": "54a43e3e",
   "metadata": {},
   "source": [
    "\n",
    "### Ejercicios\n",
    "\n",
    "Para las siguientes simulaciones consideramos un tiempo de integración de 1000 ms y corrientes aplicadas constantes, $I(t)=k$. Además, ignoramos los efectos de ruido sobre la corriente aplicada. Los parámetros relevantes a cada modelo son los mismos que en las simulaciones vistas en clase.\n",
    "\n",
    "<blockquote>\n",
    "    \n",
    "- Para el modelo LeakIF, ¿es posible elegir la corriente aplicada de manera que solo se generen 10 potenciales de acción? Considera $k\\approx0.15$.\n",
    "- Para el modelo QIF, ¿es posible elegir la corriente aplicada de manera que solo se generen 10 potenciales de acción? Considera $k\\approx0.0$.\n",
    "\n",
    "En caso de haber encontrado las constantes $k$ de los incisos anteriores:\n",
    "\n",
    "- Considera cuatro valores intermedios entre la referencia ($k_0=0.15$ en el modelo LeakIF, $k_0=0.0$ en el modelo QIF) y mide la frecuencia de disparo para cada uno de estos seis valores (incluyendo la referencia y el valor que encontraste).\n",
    "- Comenta: ¿cómo varía la frecuencia de cada modelo? ¿Cuál de los dos es más *sensible*?\n",
    "<\\blockquote>"
   ]
  },
  {
   "attachments": {
    "ramp.png": {
     "image/png": "[encoded data removed]"
    }
   },
   "cell_type": "markdown",
   "id": "d0fe90c1",
   "metadata": {},
   "source": [
    "### Ejercicio\n",
    "\n",
    "Considera el modelo QIF a 1000 ms y con una corriente aplicada tipo *rampa* cuya gráfica tenga la siguiente forma. Al tiempo $t_0=0.0$ la corriente debe valer $I(t_0)=-1.0$, y al tiempo $t_1=1000.0$ debe alcanzar el valor $I(t_1)=1.0$. ¿Qué puedes comentar sobre la frecuencia de disparo?\n",
    "\n",
    "![ramp.png](attachment:ramp.png)"
   ]
  },
  {
   "cell_type": "code",
   "execution_count": null,
   "id": "0f07af4e",
   "metadata": {},
   "outputs": [],
   "source": [
    "t0 = linspace(0,1000,100001)"
   ]
  },
  {
   "cell_type": "code",
   "execution_count": null,
   "id": "b17d0412",
   "metadata": {},
   "outputs": [],
   "source": [
    "def Iramp(t):\n",
    "    return 1/500*t-1.0\n",
    "\n",
    "p = plt.figure(figsize=(14,2))\n",
    "p = plt.plot(t0,Iramp(t0))\n",
    "\n",
    "plt.savefig(\"ramp.png\")"
   ]
  },
  {
   "cell_type": "code",
   "execution_count": null,
   "id": "9baa5350",
   "metadata": {},
   "outputs": [],
   "source": [
    "Vth = 1.0\n",
    "Vreset = -1.0\n",
    "Vspike = 3.0\n",
    "noise_int = 0.0\n",
    "\n",
    "# k = 0.15001\n",
    "k = 0.15001\n",
    "\n",
    "def Iexe1(t):\n",
    "    return k\n",
    "\n",
    "V = LeakIF(t0,Iexe1,Vth,Vreset,Vspike,noise_int)\n",
    "\n",
    "fig, axs = plt.subplots(2,1,figsize=(13,6), gridspec_kw={'height_ratios': [2,1]})\n",
    "fig.suptitle(\"Modelo IF con fuga\")\n",
    "\n",
    "axs[0].plot(t0,V,color=\"red\")\n",
    "axs[0].set_ylim([Vreset-1.0,Vspike+1.0])\n",
    "axs[0].set_ylabel(\"V(t)\")\n",
    "\n",
    "axs[1].plot(t0,graph(t0,Iexe1))\n",
    "axs[1].set_ylabel(\"I(t)\")\n",
    "axs[1].set_xlabel(\"t\")\n"
   ]
  },
  {
   "cell_type": "code",
   "execution_count": null,
   "id": "db4f6e12",
   "metadata": {},
   "outputs": [],
   "source": [
    "# k = 0.001\n",
    "k = 0.0001\n",
    "\n",
    "def Iexe2(t):\n",
    "    return k          # Dos pulsos: uno de 300ms de duración y el otro de 2s\n",
    "\n",
    "Vmax = 10.0\n",
    "Vreset = -1.0\n",
    "noise_int = 0.0\n",
    "\n",
    "V = QIF(t0,Iexe2,Vmax,Vreset,noise_int)\n",
    "\n",
    "fig, axs = plt.subplots(2,1,figsize=(13,6), gridspec_kw={'height_ratios': [2,1]})\n",
    "fig.suptitle(\"Modelo QIF\")\n",
    "\n",
    "axs[0].plot(t0,V,color=\"red\")\n",
    "axs[0].set_ylim([Vreset-1.0,Vmax+1.0])\n",
    "\n",
    "axs[1].plot(t0,graph(t0,Iexe2))"
   ]
  }
 ],
 "metadata": {
  "@webio": {
   "lastCommId": null,
   "lastKernelId": null
  },
  "kernelspec": {
   "display_name": "Python 3",
   "language": "python",
   "name": "python3"
  },
  "language_info": {
   "codemirror_mode": {
    "name": "ipython",
    "version": 3
   },
   "file_extension": ".py",
   "mimetype": "text/x-python",
   "name": "python",
   "nbconvert_exporter": "python",
   "pygments_lexer": "ipython3",
   "version": "3.8.8"
  }
 },
 "nbformat": 4,
 "nbformat_minor": 5
}
