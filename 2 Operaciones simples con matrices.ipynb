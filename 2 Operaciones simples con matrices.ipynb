{
 "cells": [
  {
   "cell_type": "code",
   "execution_count": 12,
   "id": "a6b0b131",
   "metadata": {},
   "outputs": [],
   "source": [
    "# Cargamos la paquetería\n",
    "\n",
    "import numpy as np\n",
    "import numpy.linalg as la\n",
    "import matplotlib.pyplot as plt\n",
    "from numpy.core.function_base import linspace\n",
    "from numpy import meshgrid\n",
    "from numpy.linalg import norm, eig\n",
    "\n",
    "from scipy.integrate import solve_ivp\n",
    "from scipy.integrate import odeint\n",
    "from scipy.optimize import fsolve\n",
    "\n",
    "from numpy import sqrt, exp, sin, cos, pi"
   ]
  },
  {
   "cell_type": "markdown",
   "id": "1b00de0f",
   "metadata": {},
   "source": [
    "## Definición de matrices"
   ]
  },
  {
   "cell_type": "code",
   "execution_count": 13,
   "id": "b92b8d95",
   "metadata": {},
   "outputs": [],
   "source": [
    "A = np.array([[-1, 1],\n",
    "             [0, 1]])"
   ]
  },
  {
   "cell_type": "code",
   "execution_count": 14,
   "id": "debd5427",
   "metadata": {},
   "outputs": [
    {
     "data": {
      "text/plain": [
       "array([[-1,  1],\n",
       "       [ 0,  1]])"
      ]
     },
     "execution_count": 14,
     "metadata": {},
     "output_type": "execute_result"
    }
   ],
   "source": [
    "A"
   ]
  },
  {
   "cell_type": "markdown",
   "id": "ccacb751",
   "metadata": {},
   "source": [
    "## Traza"
   ]
  },
  {
   "cell_type": "code",
   "execution_count": 24,
   "id": "8ee1c47a",
   "metadata": {},
   "outputs": [],
   "source": [
    "t = np.matrix.trace(A)"
   ]
  },
  {
   "cell_type": "markdown",
   "id": "345e84ff",
   "metadata": {},
   "source": [
    "## Determinante"
   ]
  },
  {
   "cell_type": "code",
   "execution_count": 25,
   "id": "04e1281f",
   "metadata": {},
   "outputs": [],
   "source": [
    "d = la.det(A)"
   ]
  },
  {
   "cell_type": "markdown",
   "id": "a4af5600",
   "metadata": {},
   "source": [
    "## Valores propios"
   ]
  },
  {
   "cell_type": "code",
   "execution_count": 23,
   "id": "73ad9cde",
   "metadata": {},
   "outputs": [
    {
     "data": {
      "text/plain": [
       "array([-1.,  1.])"
      ]
     },
     "execution_count": 23,
     "metadata": {},
     "output_type": "execute_result"
    }
   ],
   "source": [
    "eig(A)[0]"
   ]
  },
  {
   "cell_type": "code",
   "execution_count": 27,
   "id": "69aa8081",
   "metadata": {},
   "outputs": [
    {
     "data": {
      "text/plain": [
       "-1.0"
      ]
     },
     "execution_count": 27,
     "metadata": {},
     "output_type": "execute_result"
    }
   ],
   "source": [
    "0.5*(t-sqrt(t**2-4*d))"
   ]
  }
 ],
 "metadata": {
  "kernelspec": {
   "display_name": "Python 3",
   "language": "python",
   "name": "python3"
  },
  "language_info": {
   "codemirror_mode": {
    "name": "ipython",
    "version": 3
   },
   "file_extension": ".py",
   "mimetype": "text/x-python",
   "name": "python",
   "nbconvert_exporter": "python",
   "pygments_lexer": "ipython3",
   "version": "3.8.8"
  }
 },
 "nbformat": 4,
 "nbformat_minor": 5
}
